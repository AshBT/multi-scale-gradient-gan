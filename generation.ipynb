{
 "cells": [
  {
   "cell_type": "code",
   "execution_count": null,
   "metadata": {},
   "outputs": [],
   "source": [
    "from PIL import Image\n",
    "from networks import Generator\n",
    "import torch"
   ]
  },
  {
   "cell_type": "code",
   "execution_count": null,
   "metadata": {},
   "outputs": [],
   "source": [
    "generator = Generator(6, 512).cuda()\n",
    "generator.load_state_dict(torch.load('checkpoints/train_epoch-5.model')['generator'])"
   ]
  },
  {
   "cell_type": "code",
   "execution_count": null,
   "metadata": {},
   "outputs": [],
   "source": [
    "z = torch.randn(1, 512).cuda()\n",
    "z = (512 ** 0.5) * z / z.norm(p=2, dim=1, keepdim=True)\n",
    "output = generator(z)\n",
    "\n",
    "scale = 4\n",
    "x = output[scale][0].permute(1, 2, 0)\n",
    "x = 0.5 * (x + 1.0)\n",
    "i = (255 * x.clamp(0, 1)).byte().cpu().numpy()\n",
    "Image.fromarray(i).resize((256, 256), Image.NEAREST)"
   ]
  }
 ],
 "metadata": {
  "kernelspec": {
   "display_name": "Python 3",
   "language": "python",
   "name": "python3"
  },
  "language_info": {
   "codemirror_mode": {
    "name": "ipython",
    "version": 3
   },
   "file_extension": ".py",
   "mimetype": "text/x-python",
   "name": "python",
   "nbconvert_exporter": "python",
   "pygments_lexer": "ipython3",
   "version": "3.6.8"
  }
 },
 "nbformat": 4,
 "nbformat_minor": 2
}
