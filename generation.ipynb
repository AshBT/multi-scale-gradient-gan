{
 "cells": [
  {
   "cell_type": "code",
   "execution_count": null,
   "metadata": {},
   "outputs": [],
   "source": [
    "import torch\n",
    "from networks import Generator\n",
    "from PIL import Image"
   ]
  },
  {
   "cell_type": "code",
   "execution_count": null,
   "metadata": {},
   "outputs": [],
   "source": [
    "DEVICE = torch.device('cuda:0')\n",
    "generator = Generator(depth=16, initial_size=(6, 4), upsample=7, z_dimension=128).to(DEVICE)\n",
    "generator.load_state_dict(torch.load('checkpoints/train_epoch_100.model', map_location=DEVICE)['generator'])"
   ]
  },
  {
   "cell_type": "code",
   "execution_count": null,
   "metadata": {},
   "outputs": [],
   "source": [
    "WIDTH, HEIGHT = 512, 768\n",
    "grid = Image.new('RGB', (5 * WIDTH, 2 * HEIGHT))\n",
    "\n",
    "for i in range(2):\n",
    "    for j in range(5):\n",
    "\n",
    "        with torch.no_grad():\n",
    "            z = torch.randn(1, 128).to(DEVICE)\n",
    "            z = z / z.norm(p=2, dim=1, keepdim=True)\n",
    "            output = generator(z)\n",
    "\n",
    "        scale = 7\n",
    "        x = output[scale][0].permute(1, 2, 0)\n",
    "        x = 0.5 * (x + 1.0)\n",
    "        image = (255 * x.clamp(0, 1)).byte().cpu().numpy()\n",
    "        image = Image.fromarray(image).resize((WIDTH, HEIGHT), Image.NEAREST)\n",
    "        grid.paste(image, (j * WIDTH, i * HEIGHT))     \n",
    "\n",
    "grid"
   ]
  }
 ],
 "metadata": {
  "kernelspec": {
   "display_name": "Python 3",
   "language": "python",
   "name": "python3"
  },
  "language_info": {
   "codemirror_mode": {
    "name": "ipython",
    "version": 3
   },
   "file_extension": ".py",
   "mimetype": "text/x-python",
   "name": "python",
   "nbconvert_exporter": "python",
   "pygments_lexer": "ipython3",
   "version": "3.6.8"
  }
 },
 "nbformat": 4,
 "nbformat_minor": 2
}
